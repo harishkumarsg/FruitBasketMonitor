{
 "cells": [
  {
   "cell_type": "code",
   "execution_count": 2,
   "id": "65a6395b-fe8d-41a1-a46b-a8d11884f790",
   "metadata": {},
   "outputs": [
    {
     "name": "stdout",
     "output_type": "stream",
     "text": [
      "✅ YOLOv8n model loaded successfully.\n"
     ]
    }
   ],
   "source": [
    "from ultralytics import YOLO\n",
    "\n",
    "# Download and load YOLOv8n (Nano version) model\n",
    "model = YOLO(\"yolov8n.pt\")\n",
    "\n",
    "# Print model info\n",
    "print(\"✅ YOLOv8n model loaded successfully.\")"
   ]
  },
  {
   "cell_type": "code",
   "execution_count": null,
   "id": "6bd48e82-0c4a-4b87-bf9a-22a06899af47",
   "metadata": {},
   "outputs": [],
   "source": []
  }
 ],
 "metadata": {
  "kernelspec": {
   "display_name": "Python [conda env:FruitBasketMonitor]",
   "language": "python",
   "name": "conda-env-FruitBasketMonitor-py"
  },
  "language_info": {
   "codemirror_mode": {
    "name": "ipython",
    "version": 3
   },
   "file_extension": ".py",
   "mimetype": "text/x-python",
   "name": "python",
   "nbconvert_exporter": "python",
   "pygments_lexer": "ipython3",
   "version": "3.10.18"
  }
 },
 "nbformat": 4,
 "nbformat_minor": 5
}
